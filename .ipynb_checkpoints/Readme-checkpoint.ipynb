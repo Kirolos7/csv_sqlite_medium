{
 "cells": [
  {
   "cell_type": "markdown",
   "metadata": {},
   "source": [
    "## How to insert data from multiple CSV files into a SQLite Database in Python"
   ]
  },
  {
   "cell_type": "markdown",
   "metadata": {},
   "source": [
    "This is a tutorial that shows one of many ways to insert data from CSV file into a database. The full post can be found [link text](http://url)"
   ]
  },
  {
   "cell_type": "markdown",
   "metadata": {},
   "source": [
    "This repo contains three files:\n",
    "- code_for_blog.ipynb: Jupyter Notebook file containing code\n",
    "\n",
    "- product_data.csv: Sample CSV file \n",
    "\n",
    "- product_dbase.sqlite: Sample output of file (this is how the database will look like)"
   ]
  },
  {
   "cell_type": "markdown",
   "metadata": {},
   "source": []
  }
 ],
 "metadata": {
  "kernelspec": {
   "display_name": "Python 3",
   "language": "python",
   "name": "python3"
  },
  "language_info": {
   "codemirror_mode": {
    "name": "ipython",
    "version": 3
   },
   "file_extension": ".py",
   "mimetype": "text/x-python",
   "name": "python",
   "nbconvert_exporter": "python",
   "pygments_lexer": "ipython3",
   "version": "3.6.5"
  }
 },
 "nbformat": 4,
 "nbformat_minor": 2
}
